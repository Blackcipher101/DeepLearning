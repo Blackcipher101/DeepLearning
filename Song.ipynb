{
  "nbformat": 4,
  "nbformat_minor": 0,
  "metadata": {
    "colab": {
      "name": "Song.ipynb",
      "provenance": [],
      "collapsed_sections": [],
      "authorship_tag": "ABX9TyPYg4rJuIn6m02xRbMdpPGQ",
      "include_colab_link": true
    },
    "kernelspec": {
      "name": "python3",
      "display_name": "Python 3"
    },
    "accelerator": "GPU"
  },
  "cells": [
    {
      "cell_type": "markdown",
      "metadata": {
        "id": "view-in-github",
        "colab_type": "text"
      },
      "source": [
        "<a href=\"https://colab.research.google.com/github/Blackcipher101/DeepLearning/blob/master/Song.ipynb\" target=\"_parent\"><img src=\"https://colab.research.google.com/assets/colab-badge.svg\" alt=\"Open In Colab\"/></a>"
      ]
    },
    {
      "cell_type": "code",
      "metadata": {
        "id": "ooHCHXd147Tl"
      },
      "source": [
        "import tensorflow as tf\n",
        "\n",
        "from tensorflow.keras.preprocessing.text import Tokenizer\n",
        "from tensorflow.keras.preprocessing.sequence import pad_sequences\n",
        "\n",
        "# Other imports for processing data\n",
        "import string\n",
        "import numpy as np\n",
        "import pandas as pd"
      ],
      "execution_count": null,
      "outputs": []
    },
    {
      "cell_type": "code",
      "metadata": {
        "colab": {
          "base_uri": "https://localhost:8080/"
        },
        "id": "EAg4Jirr7dTs",
        "outputId": "c14e4f05-5cd2-45f1-fb0e-2ecd3dba2e59"
      },
      "source": [
        "!wget --no-check-certificate \\\n",
        "    https://drive.google.com/uc?id=1LiJFZd41ofrWoBtW-pMYsfz1w8Ny0Bj8 \\\n",
        "    -O /tmp/songdata.csv"
      ],
      "execution_count": null,
      "outputs": [
        {
          "output_type": "stream",
          "text": [
            "--2020-11-28 17:55:29--  https://drive.google.com/uc?id=1LiJFZd41ofrWoBtW-pMYsfz1w8Ny0Bj8\n",
            "Resolving drive.google.com (drive.google.com)... 172.217.218.101, 172.217.218.100, 172.217.218.113, ...\n",
            "Connecting to drive.google.com (drive.google.com)|172.217.218.101|:443... connected.\n",
            "HTTP request sent, awaiting response... 302 Moved Temporarily\n",
            "Location: https://doc-04-ak-docs.googleusercontent.com/docs/securesc/ha0ro937gcuc7l7deffksulhg5h7mbp1/bmadqr138tak6pvsrenbrpq7p6mkrs23/1606586100000/11118900490791463723/*/1LiJFZd41ofrWoBtW-pMYsfz1w8Ny0Bj8 [following]\n",
            "Warning: wildcards not supported in HTTP.\n",
            "--2020-11-28 17:55:32--  https://doc-04-ak-docs.googleusercontent.com/docs/securesc/ha0ro937gcuc7l7deffksulhg5h7mbp1/bmadqr138tak6pvsrenbrpq7p6mkrs23/1606586100000/11118900490791463723/*/1LiJFZd41ofrWoBtW-pMYsfz1w8Ny0Bj8\n",
            "Resolving doc-04-ak-docs.googleusercontent.com (doc-04-ak-docs.googleusercontent.com)... 172.217.218.132, 2a00:1450:4013:c08::84\n",
            "Connecting to doc-04-ak-docs.googleusercontent.com (doc-04-ak-docs.googleusercontent.com)|172.217.218.132|:443... connected.\n",
            "HTTP request sent, awaiting response... 200 OK\n",
            "Length: unspecified [text/csv]\n",
            "Saving to: ‘/tmp/songdata.csv’\n",
            "\n",
            "/tmp/songdata.csv       [    <=>             ]  69.08M   103MB/s    in 0.7s    \n",
            "\n",
            "2020-11-28 17:55:33 (103 MB/s) - ‘/tmp/songdata.csv’ saved [72436445]\n",
            "\n"
          ],
          "name": "stdout"
        }
      ]
    },
    {
      "cell_type": "code",
      "metadata": {
        "id": "UMNvVSBr7fh2"
      },
      "source": [
        "def tokenize_corpus(corpus, num_words=-1):\n",
        "  # Fit a Tokenizer on the corpus\n",
        "  if num_words > -1:\n",
        "    tokenizer = Tokenizer(num_words=num_words)\n",
        "  else:\n",
        "    tokenizer = Tokenizer()\n",
        "  tokenizer.fit_on_texts(corpus)\n",
        "  return tokenizer\n",
        "\n",
        "def create_lyrics_corpus(dataset, field):\n",
        "  # Remove all other punctuation\n",
        "  dataset[field] = dataset[field].str.replace('[{}]'.format(string.punctuation), '')\n",
        "  # Make it lowercase\n",
        "  dataset[field] = dataset[field].str.lower()\n",
        "  # Make it one long string to split by line\n",
        "  lyrics = dataset[field].str.cat()\n",
        "  corpus = lyrics.split('\\n')\n",
        "  # Remove any trailing whitespace\n",
        "  for l in range(len(corpus)):\n",
        "    corpus[l] = corpus[l].rstrip()\n",
        "  # Remove any empty lines\n",
        "  corpus = [l for l in corpus if l != '']\n",
        "\n",
        "  return corpus"
      ],
      "execution_count": null,
      "outputs": []
    },
    {
      "cell_type": "code",
      "metadata": {
        "colab": {
          "base_uri": "https://localhost:8080/"
        },
        "id": "oXJvTl6Z7fl7",
        "outputId": "8a511268-45e8-4863-beec-60c3e706fdc2"
      },
      "source": [
        "# Read the dataset from csv - just first 10 songs for now\n",
        "dataset = pd.read_csv('/tmp/songdata.csv', dtype=str)[:10]\n",
        "# Create the corpus using the 'text' column containing lyrics\n",
        "corpus = create_lyrics_corpus(dataset, 'text')\n",
        "# Tokenize the corpus\n",
        "tokenizer = tokenize_corpus(corpus)\n",
        "\n",
        "total_words = len(tokenizer.word_index) + 1\n",
        "\n",
        "print(tokenizer.word_index)\n",
        "print(total_words)"
      ],
      "execution_count": null,
      "outputs": [
        {
          "output_type": "stream",
          "text": [
            "{'you': 1, 'i': 2, 'and': 3, 'a': 4, 'me': 5, 'the': 6, 'is': 7, 'my': 8, 'to': 9, 'ma': 10, 'it': 11, 'of': 12, 'im': 13, 'your': 14, 'love': 15, 'so': 16, 'as': 17, 'that': 18, 'in': 19, 'andante': 20, 'boomaboomerang': 21, 'make': 22, 'on': 23, 'oh': 24, 'for': 25, 'but': 26, 'new': 27, 'bang': 28, 'its': 29, 'be': 30, 'like': 31, 'know': 32, 'now': 33, 'how': 34, 'could': 35, 'youre': 36, 'sing': 37, 'never': 38, 'no': 39, 'chiquitita': 40, 'can': 41, 'we': 42, 'song': 43, 'had': 44, 'good': 45, 'youll': 46, 'she': 47, 'just': 48, 'girl': 49, 'again': 50, 'will': 51, 'take': 52, 'please': 53, 'let': 54, 'am': 55, 'eyes': 56, 'was': 57, 'always': 58, 'cassandra': 59, 'blue': 60, 'time': 61, 'dont': 62, 'were': 63, 'return': 64, 'once': 65, 'then': 66, 'sorry': 67, 'cryin': 68, 'over': 69, 'feel': 70, 'ever': 71, 'believe': 72, 'what': 73, 'do': 74, 'go': 75, 'all': 76, 'out': 77, 'think': 78, 'every': 79, 'leave': 80, 'look': 81, 'at': 82, 'way': 83, 'one': 84, 'music': 85, 'down': 86, 'our': 87, 'give': 88, 'learn': 89, 'more': 90, 'us': 91, 'would': 92, 'there': 93, 'before': 94, 'when': 95, 'with': 96, 'feeling': 97, 'play': 98, 'cause': 99, 'away': 100, 'here': 101, 'have': 102, 'yes': 103, 'baby': 104, 'get': 105, 'didnt': 106, 'see': 107, 'did': 108, 'closed': 109, 'realized': 110, 'crazy': 111, 'world': 112, 'lord': 113, 'shes': 114, 'kind': 115, 'without': 116, 'if': 117, 'touch': 118, 'strong': 119, 'making': 120, 'such': 121, 'found': 122, 'true': 123, 'stay': 124, 'together': 125, 'thought': 126, 'come': 127, 'they': 128, 'sweet': 129, 'tender': 130, 'sender': 131, 'tune': 132, 'humdehumhum': 133, 'gonna': 134, 'last': 135, 'leaving': 136, 'sleep': 137, 'only': 138, 'saw': 139, 'tell': 140, 'hes': 141, 'her': 142, 'sound': 143, 'tread': 144, 'lightly': 145, 'ground': 146, 'ill': 147, 'show': 148, 'life': 149, 'too': 150, 'used': 151, 'darling': 152, 'meant': 153, 'break': 154, 'end': 155, 'yourself': 156, 'little': 157, 'dumbedumdum': 158, 'bedumbedumdum': 159, 'youve': 160, 'dumbbedumbdumb': 161, 'bedumbbedumbdumb': 162, 'by': 163, 'theyre': 164, 'alone': 165, 'misunderstood': 166, 'day': 167, 'dawning': 168, 'some': 169, 'wanted': 170, 'none': 171, 'listen': 172, 'words': 173, 'warning': 174, 'darkest': 175, 'nights': 176, 'nobody': 177, 'knew': 178, 'fight': 179, 'caught': 180, 'really': 181, 'power': 182, 'dreams': 183, 'weave': 184, 'until': 185, 'final': 186, 'hour': 187, 'morning': 188, 'ship': 189, 'gone': 190, 'grieving': 191, 'still': 192, 'pain': 193, 'cry': 194, 'sun': 195, 'try': 196, 'face': 197, 'something': 198, 'sees': 199, 'makes': 200, 'fine': 201, 'who': 202, 'mine': 203, 'leaves': 204, 'walk': 205, 'hand': 206, 'well': 207, 'about': 208, 'things': 209, 'slow': 210, 'theres': 211, 'talk': 212, 'why': 213, 'up': 214, 'lousy': 215, 'packing': 216, 'ive': 217, 'gotta': 218, 'near': 219, 'keeping': 220, 'intention': 221, 'growing': 222, 'taking': 223, 'dimension': 224, 'even': 225, 'better': 226, 'thank': 227, 'god': 228, 'not': 229, 'somebody': 230, 'happy': 231, 'question': 232, 'smile': 233, 'mean': 234, 'much': 235, 'kisses': 236, 'around': 237, 'anywhere': 238, 'advice': 239, 'care': 240, 'use': 241, 'selfish': 242, 'tool': 243, 'fool': 244, 'showing': 245, 'boomerang': 246, 'throwing': 247, 'warm': 248, 'kiss': 249, 'surrender': 250, 'giving': 251, 'been': 252, 'door': 253, 'burning': 254, 'bridges': 255, 'being': 256, 'moving': 257, 'though': 258, 'behind': 259, 'are': 260, 'must': 261, 'sure': 262, 'stood': 263, 'hope': 264, 'this': 265, 'deny': 266, 'sad': 267, 'quiet': 268, 'truth': 269, 'heartaches': 270, 'scars': 271, 'dancing': 272, 'sky': 273, 'shining': 274, 'above': 275, 'hear': 276, 'came': 277, 'couldnt': 278, 'everything': 279, 'back': 280, 'long': 281, 'waitin': 282, 'cold': 283, 'chills': 284, 'bone': 285, 'youd': 286, 'wonderful': 287, 'means': 288, 'special': 289, 'smiles': 290, 'lucky': 291, 'fellow': 292, 'park': 293, 'holds': 294, 'squeezes': 295, 'walking': 296, 'hours': 297, 'talking': 298, 'plan': 299, 'easy': 300, 'gently': 301, 'summer': 302, 'evening': 303, 'breeze': 304, 'grow': 305, 'fingers': 306, 'soft': 307, 'light': 308, 'body': 309, 'velvet': 310, 'night': 311, 'soul': 312, 'slowly': 313, 'shimmer': 314, 'thousand': 315, 'butterflies': 316, 'float': 317, 'put': 318, 'rotten': 319, 'boy': 320, 'tough': 321, 'stuff': 322, 'saying': 323, 'need': 324, 'anymore': 325, 'enough': 326, 'standing': 327, 'creep': 328, 'felt': 329, 'cheap': 330, 'notion': 331, 'deep': 332, 'dumb': 333, 'mistake': 334, 'entitled': 335, 'another': 336, 'beg': 337, 'forgive': 338, 'an': 339, 'feels': 340, 'hoot': 341, 'holler': 342, 'mad': 343, 'under': 344, 'heel': 345, 'holy': 346, 'christ': 347, 'deal': 348, 'sick': 349, 'tired': 350, 'tedious': 351, 'ways': 352, 'aint': 353, 'walkin': 354, 'cutting': 355, 'tie': 356, 'wanna': 357, 'into': 358, 'eye': 359, 'myself': 360, 'counting': 361, 'pride': 362, 'unright': 363, 'neighbours': 364, 'ride': 365, 'burying': 366, 'past': 367, 'peace': 368, 'free': 369, 'sucker': 370, 'street': 371, 'singing': 372, 'shouting': 373, 'staying': 374, 'alive': 375, 'city': 376, 'dead': 377, 'hiding': 378, 'their': 379, 'shame': 380, 'hollow': 381, 'laughter': 382, 'while': 383, 'crying': 384, 'bed': 385, 'pity': 386, 'believed': 387, 'lost': 388, 'from': 389, 'start': 390, 'suffer': 391, 'sell': 392, 'secrets': 393, 'bargain': 394, 'playing': 395, 'smart': 396, 'aching': 397, 'hearts': 398, 'sailing': 399, 'father': 400, 'sister': 401, 'reason': 402, 'linger': 403, 'deeply': 404, 'future': 405, 'casting': 406, 'shadow': 407, 'else': 408, 'fate': 409, 'bags': 410, 'thorough': 411, 'knowing': 412, 'late': 413, 'wait': 414, 'watched': 415, 'harbor': 416, 'sunrise': 417, 'sails': 418, 'almost': 419, 'slack': 420, 'cool': 421, 'rain': 422, 'deck': 423, 'tiny': 424, 'figure': 425, 'rigid': 426, 'restrained': 427, 'filled': 428, 'whats': 429, 'wrong': 430, 'enchained': 431, 'own': 432, 'sorrow': 433, 'tomorrow': 434, 'hate': 435, 'shoulder': 436, 'best': 437, 'friend': 438, 'rely': 439, 'broken': 440, 'feather': 441, 'patch': 442, 'walls': 443, 'tumbling': 444, 'loves': 445, 'blown': 446, 'candle': 447, 'seems': 448, 'hard': 449, 'handle': 450, 'id': 451, 'thinking': 452, 'went': 453, 'house': 454, 'hardly': 455, 'guy': 456, 'closing': 457, 'front': 458, 'emptiness': 459, 'he': 460, 'disapeared': 461, 'his': 462, 'car': 463, 'stunned': 464, 'dreamed': 465, 'lifes': 466, 'part': 467, 'move': 468, 'feet': 469, 'pavement': 470, 'acted': 471, 'told': 472, 'lies': 473, 'meet': 474, 'other': 475, 'guys': 476, 'stupid': 477, 'blind': 478, 'smiled': 479, 'took': 480, 'said': 481, 'may': 482, 'couple': 483, 'men': 484, 'them': 485, 'brother': 486, 'joe': 487, 'seeing': 488, 'lot': 489, 'him': 490, 'nice': 491, 'sitting': 492, 'sittin': 493, 'memories': 494}\n",
            "495\n"
          ],
          "name": "stdout"
        }
      ]
    },
    {
      "cell_type": "code",
      "metadata": {
        "id": "-UJwOrbf9Bvq"
      },
      "source": [
        "sequences = []\n",
        "for line in corpus:\n",
        "\ttoken_list = tokenizer.texts_to_sequences([line])[0]\n",
        "\tfor i in range(1, len(token_list)):\n",
        "\t\tn_gram_sequence = token_list[:i+1]\n",
        "\t\tsequences.append(n_gram_sequence)\n",
        "\n",
        "# Pad sequences for equal input length \n",
        "max_sequence_len = max([len(seq) for seq in sequences])\n",
        "sequences = np.array(pad_sequences(sequences, maxlen=max_sequence_len, padding='pre'))\n",
        "\n",
        "# Split sequences between the \"input\" sequence and \"output\" predicted word\n",
        "input_sequences, labels = sequences[:,:-1], sequences[:,-1]\n",
        "# One-hot encode the labels\n",
        "one_hot_labels = tf.keras.utils.to_categorical(labels, num_classes=total_words)"
      ],
      "execution_count": null,
      "outputs": []
    },
    {
      "cell_type": "code",
      "metadata": {
        "colab": {
          "base_uri": "https://localhost:8080/"
        },
        "id": "5NkHyW0i7fn_",
        "outputId": "460e5144-a688-48b3-bc8a-7c99c0ff4a97"
      },
      "source": [
        "# Check out how some of our data is being stored\n",
        "# The Tokenizer has just a single index per word\n",
        "print(tokenizer.word_index['know'])\n",
        "print(tokenizer.word_index['feeling'])\n",
        "# Input sequences will have multiple indexes\n",
        "print(input_sequences[5])\n",
        "print(input_sequences[6])\n",
        "# And the one hot labels will be as long as the full spread of tokenized words\n",
        "print(one_hot_labels[5])\n",
        "print(one_hot_labels[6])"
      ],
      "execution_count": null,
      "outputs": [
        {
          "output_type": "stream",
          "text": [
            "32\n",
            "97\n",
            "[  0   0   0   0   0   0   0   0   0   0   0   0   0  81  82 142 197  29\n",
            "   4]\n",
            "[  0   0   0   0   0   0   0   0   0   0   0   0  81  82 142 197  29   4\n",
            " 287]\n",
            "[0. 0. 0. 0. 0. 0. 0. 0. 0. 0. 0. 0. 0. 0. 0. 0. 0. 0. 0. 0. 0. 0. 0. 0.\n",
            " 0. 0. 0. 0. 0. 0. 0. 0. 0. 0. 0. 0. 0. 0. 0. 0. 0. 0. 0. 0. 0. 0. 0. 0.\n",
            " 0. 0. 0. 0. 0. 0. 0. 0. 0. 0. 0. 0. 0. 0. 0. 0. 0. 0. 0. 0. 0. 0. 0. 0.\n",
            " 0. 0. 0. 0. 0. 0. 0. 0. 0. 0. 0. 0. 0. 0. 0. 0. 0. 0. 0. 0. 0. 0. 0. 0.\n",
            " 0. 0. 0. 0. 0. 0. 0. 0. 0. 0. 0. 0. 0. 0. 0. 0. 0. 0. 0. 0. 0. 0. 0. 0.\n",
            " 0. 0. 0. 0. 0. 0. 0. 0. 0. 0. 0. 0. 0. 0. 0. 0. 0. 0. 0. 0. 0. 0. 0. 0.\n",
            " 0. 0. 0. 0. 0. 0. 0. 0. 0. 0. 0. 0. 0. 0. 0. 0. 0. 0. 0. 0. 0. 0. 0. 0.\n",
            " 0. 0. 0. 0. 0. 0. 0. 0. 0. 0. 0. 0. 0. 0. 0. 0. 0. 0. 0. 0. 0. 0. 0. 0.\n",
            " 0. 0. 0. 0. 0. 0. 0. 0. 0. 0. 0. 0. 0. 0. 0. 0. 0. 0. 0. 0. 0. 0. 0. 0.\n",
            " 0. 0. 0. 0. 0. 0. 0. 0. 0. 0. 0. 0. 0. 0. 0. 0. 0. 0. 0. 0. 0. 0. 0. 0.\n",
            " 0. 0. 0. 0. 0. 0. 0. 0. 0. 0. 0. 0. 0. 0. 0. 0. 0. 0. 0. 0. 0. 0. 0. 0.\n",
            " 0. 0. 0. 0. 0. 0. 0. 0. 0. 0. 0. 0. 0. 0. 0. 0. 0. 0. 0. 0. 0. 0. 0. 1.\n",
            " 0. 0. 0. 0. 0. 0. 0. 0. 0. 0. 0. 0. 0. 0. 0. 0. 0. 0. 0. 0. 0. 0. 0. 0.\n",
            " 0. 0. 0. 0. 0. 0. 0. 0. 0. 0. 0. 0. 0. 0. 0. 0. 0. 0. 0. 0. 0. 0. 0. 0.\n",
            " 0. 0. 0. 0. 0. 0. 0. 0. 0. 0. 0. 0. 0. 0. 0. 0. 0. 0. 0. 0. 0. 0. 0. 0.\n",
            " 0. 0. 0. 0. 0. 0. 0. 0. 0. 0. 0. 0. 0. 0. 0. 0. 0. 0. 0. 0. 0. 0. 0. 0.\n",
            " 0. 0. 0. 0. 0. 0. 0. 0. 0. 0. 0. 0. 0. 0. 0. 0. 0. 0. 0. 0. 0. 0. 0. 0.\n",
            " 0. 0. 0. 0. 0. 0. 0. 0. 0. 0. 0. 0. 0. 0. 0. 0. 0. 0. 0. 0. 0. 0. 0. 0.\n",
            " 0. 0. 0. 0. 0. 0. 0. 0. 0. 0. 0. 0. 0. 0. 0. 0. 0. 0. 0. 0. 0. 0. 0. 0.\n",
            " 0. 0. 0. 0. 0. 0. 0. 0. 0. 0. 0. 0. 0. 0. 0. 0. 0. 0. 0. 0. 0. 0. 0. 0.\n",
            " 0. 0. 0. 0. 0. 0. 0. 0. 0. 0. 0. 0. 0. 0. 0.]\n",
            "[0. 0. 0. 0. 0. 0. 0. 0. 0. 0. 0. 0. 0. 0. 0. 0. 0. 0. 0. 0. 0. 0. 0. 0.\n",
            " 0. 0. 0. 0. 0. 0. 0. 0. 0. 0. 0. 0. 0. 0. 0. 0. 0. 0. 0. 0. 0. 0. 0. 0.\n",
            " 0. 0. 0. 0. 0. 0. 0. 0. 0. 0. 0. 0. 0. 0. 0. 0. 0. 0. 0. 0. 0. 0. 0. 0.\n",
            " 0. 0. 0. 0. 0. 0. 0. 0. 0. 0. 0. 0. 0. 0. 0. 0. 0. 0. 0. 0. 0. 0. 0. 0.\n",
            " 0. 0. 0. 0. 0. 0. 0. 0. 0. 0. 0. 0. 0. 0. 0. 0. 0. 0. 0. 0. 0. 0. 0. 0.\n",
            " 0. 0. 0. 0. 0. 0. 0. 0. 0. 0. 0. 0. 0. 0. 0. 0. 0. 0. 0. 0. 0. 0. 0. 0.\n",
            " 0. 0. 0. 0. 0. 0. 0. 0. 0. 0. 0. 0. 0. 0. 0. 0. 0. 0. 0. 0. 0. 0. 0. 0.\n",
            " 0. 0. 0. 0. 0. 0. 0. 0. 0. 0. 0. 0. 0. 0. 0. 0. 0. 0. 0. 0. 0. 0. 0. 0.\n",
            " 0. 0. 0. 0. 0. 1. 0. 0. 0. 0. 0. 0. 0. 0. 0. 0. 0. 0. 0. 0. 0. 0. 0. 0.\n",
            " 0. 0. 0. 0. 0. 0. 0. 0. 0. 0. 0. 0. 0. 0. 0. 0. 0. 0. 0. 0. 0. 0. 0. 0.\n",
            " 0. 0. 0. 0. 0. 0. 0. 0. 0. 0. 0. 0. 0. 0. 0. 0. 0. 0. 0. 0. 0. 0. 0. 0.\n",
            " 0. 0. 0. 0. 0. 0. 0. 0. 0. 0. 0. 0. 0. 0. 0. 0. 0. 0. 0. 0. 0. 0. 0. 0.\n",
            " 0. 0. 0. 0. 0. 0. 0. 0. 0. 0. 0. 0. 0. 0. 0. 0. 0. 0. 0. 0. 0. 0. 0. 0.\n",
            " 0. 0. 0. 0. 0. 0. 0. 0. 0. 0. 0. 0. 0. 0. 0. 0. 0. 0. 0. 0. 0. 0. 0. 0.\n",
            " 0. 0. 0. 0. 0. 0. 0. 0. 0. 0. 0. 0. 0. 0. 0. 0. 0. 0. 0. 0. 0. 0. 0. 0.\n",
            " 0. 0. 0. 0. 0. 0. 0. 0. 0. 0. 0. 0. 0. 0. 0. 0. 0. 0. 0. 0. 0. 0. 0. 0.\n",
            " 0. 0. 0. 0. 0. 0. 0. 0. 0. 0. 0. 0. 0. 0. 0. 0. 0. 0. 0. 0. 0. 0. 0. 0.\n",
            " 0. 0. 0. 0. 0. 0. 0. 0. 0. 0. 0. 0. 0. 0. 0. 0. 0. 0. 0. 0. 0. 0. 0. 0.\n",
            " 0. 0. 0. 0. 0. 0. 0. 0. 0. 0. 0. 0. 0. 0. 0. 0. 0. 0. 0. 0. 0. 0. 0. 0.\n",
            " 0. 0. 0. 0. 0. 0. 0. 0. 0. 0. 0. 0. 0. 0. 0. 0. 0. 0. 0. 0. 0. 0. 0. 0.\n",
            " 0. 0. 0. 0. 0. 0. 0. 0. 0. 0. 0. 0. 0. 0. 0.]\n"
          ],
          "name": "stdout"
        }
      ]
    },
    {
      "cell_type": "code",
      "metadata": {
        "colab": {
          "base_uri": "https://localhost:8080/"
        },
        "id": "A6Tryi9B7fsu",
        "outputId": "028e8db2-bcd2-49eb-f45e-ccde0cd785c7"
      },
      "source": [
        "from tensorflow.keras.models import Sequential\n",
        "from tensorflow.keras.layers import Embedding, LSTM, Dense, Bidirectional\n",
        "\n",
        "model = Sequential()\n",
        "model.add(Embedding(total_words, 64, input_length=max_sequence_len-1))\n",
        "model.add(Bidirectional(LSTM(20)))\n",
        "model.add(Dense(total_words, activation='softmax'))\n",
        "model.compile(loss='categorical_crossentropy', optimizer='adam', metrics=['accuracy'])\n",
        "history = model.fit(input_sequences, one_hot_labels, epochs=100, verbose=1)"
      ],
      "execution_count": null,
      "outputs": [
        {
          "output_type": "stream",
          "text": [
            "Epoch 1/100\n",
            "62/62 [==============================] - 0s 7ms/step - loss: 5.9858 - accuracy: 0.0333\n",
            "Epoch 2/100\n",
            "62/62 [==============================] - 0s 6ms/step - loss: 5.4358 - accuracy: 0.0363\n",
            "Epoch 3/100\n",
            "62/62 [==============================] - 0s 7ms/step - loss: 5.3711 - accuracy: 0.0404\n",
            "Epoch 4/100\n",
            "62/62 [==============================] - 0s 7ms/step - loss: 5.3261 - accuracy: 0.0399\n",
            "Epoch 5/100\n",
            "62/62 [==============================] - 0s 7ms/step - loss: 5.2594 - accuracy: 0.0373\n",
            "Epoch 6/100\n",
            "62/62 [==============================] - 0s 7ms/step - loss: 5.1824 - accuracy: 0.0394\n",
            "Epoch 7/100\n",
            "62/62 [==============================] - 0s 7ms/step - loss: 5.1096 - accuracy: 0.0580\n",
            "Epoch 8/100\n",
            "62/62 [==============================] - 0s 6ms/step - loss: 5.0369 - accuracy: 0.0651\n",
            "Epoch 9/100\n",
            "62/62 [==============================] - 0s 6ms/step - loss: 4.9543 - accuracy: 0.0651\n",
            "Epoch 10/100\n",
            "62/62 [==============================] - 0s 7ms/step - loss: 4.8617 - accuracy: 0.0782\n",
            "Epoch 11/100\n",
            "62/62 [==============================] - 0s 6ms/step - loss: 4.7641 - accuracy: 0.0863\n",
            "Epoch 12/100\n",
            "62/62 [==============================] - 0s 7ms/step - loss: 4.6841 - accuracy: 0.0898\n",
            "Epoch 13/100\n",
            "62/62 [==============================] - 0s 7ms/step - loss: 4.5920 - accuracy: 0.0918\n",
            "Epoch 14/100\n",
            "62/62 [==============================] - 0s 7ms/step - loss: 4.5143 - accuracy: 0.0984\n",
            "Epoch 15/100\n",
            "62/62 [==============================] - 0s 7ms/step - loss: 4.4270 - accuracy: 0.1044\n",
            "Epoch 16/100\n",
            "62/62 [==============================] - 0s 7ms/step - loss: 4.3447 - accuracy: 0.1140\n",
            "Epoch 17/100\n",
            "62/62 [==============================] - 0s 7ms/step - loss: 4.2643 - accuracy: 0.1387\n",
            "Epoch 18/100\n",
            "62/62 [==============================] - 0s 7ms/step - loss: 4.1899 - accuracy: 0.1347\n",
            "Epoch 19/100\n",
            "62/62 [==============================] - 0s 7ms/step - loss: 4.1104 - accuracy: 0.1438\n",
            "Epoch 20/100\n",
            "62/62 [==============================] - 0s 7ms/step - loss: 4.0486 - accuracy: 0.1640\n",
            "Epoch 21/100\n",
            "62/62 [==============================] - 0s 7ms/step - loss: 3.9806 - accuracy: 0.1756\n",
            "Epoch 22/100\n",
            "62/62 [==============================] - 0s 7ms/step - loss: 3.8874 - accuracy: 0.1912\n",
            "Epoch 23/100\n",
            "62/62 [==============================] - 0s 6ms/step - loss: 3.8170 - accuracy: 0.2043\n",
            "Epoch 24/100\n",
            "62/62 [==============================] - 0s 7ms/step - loss: 3.7479 - accuracy: 0.2321\n",
            "Epoch 25/100\n",
            "62/62 [==============================] - 0s 7ms/step - loss: 3.6815 - accuracy: 0.2422\n",
            "Epoch 26/100\n",
            "62/62 [==============================] - 0s 7ms/step - loss: 3.6146 - accuracy: 0.2558\n",
            "Epoch 27/100\n",
            "62/62 [==============================] - 0s 6ms/step - loss: 3.5387 - accuracy: 0.2775\n",
            "Epoch 28/100\n",
            "62/62 [==============================] - 0s 7ms/step - loss: 3.4984 - accuracy: 0.2856\n",
            "Epoch 29/100\n",
            "62/62 [==============================] - 0s 7ms/step - loss: 3.4263 - accuracy: 0.2941\n",
            "Epoch 30/100\n",
            "62/62 [==============================] - 0s 6ms/step - loss: 3.3512 - accuracy: 0.3133\n",
            "Epoch 31/100\n",
            "62/62 [==============================] - 0s 7ms/step - loss: 3.2870 - accuracy: 0.3184\n",
            "Epoch 32/100\n",
            "62/62 [==============================] - 0s 7ms/step - loss: 3.2291 - accuracy: 0.3350\n",
            "Epoch 33/100\n",
            "62/62 [==============================] - 0s 7ms/step - loss: 3.1719 - accuracy: 0.3461\n",
            "Epoch 34/100\n",
            "62/62 [==============================] - 0s 7ms/step - loss: 3.1009 - accuracy: 0.3623\n",
            "Epoch 35/100\n",
            "62/62 [==============================] - 0s 7ms/step - loss: 3.0446 - accuracy: 0.3703\n",
            "Epoch 36/100\n",
            "62/62 [==============================] - 0s 6ms/step - loss: 2.9899 - accuracy: 0.3764\n",
            "Epoch 37/100\n",
            "62/62 [==============================] - 0s 6ms/step - loss: 2.9377 - accuracy: 0.3895\n",
            "Epoch 38/100\n",
            "62/62 [==============================] - 0s 7ms/step - loss: 2.8760 - accuracy: 0.4051\n",
            "Epoch 39/100\n",
            "62/62 [==============================] - 0s 7ms/step - loss: 2.8356 - accuracy: 0.4147\n",
            "Epoch 40/100\n",
            "62/62 [==============================] - 0s 7ms/step - loss: 2.7796 - accuracy: 0.4304\n",
            "Epoch 41/100\n",
            "62/62 [==============================] - 0s 7ms/step - loss: 2.7408 - accuracy: 0.4395\n",
            "Epoch 42/100\n",
            "62/62 [==============================] - 0s 7ms/step - loss: 2.7027 - accuracy: 0.4516\n",
            "Epoch 43/100\n",
            "62/62 [==============================] - 0s 7ms/step - loss: 2.6245 - accuracy: 0.4632\n",
            "Epoch 44/100\n",
            "62/62 [==============================] - 0s 7ms/step - loss: 2.5677 - accuracy: 0.4788\n",
            "Epoch 45/100\n",
            "62/62 [==============================] - 0s 7ms/step - loss: 2.5179 - accuracy: 0.4955\n",
            "Epoch 46/100\n",
            "62/62 [==============================] - 0s 7ms/step - loss: 2.4609 - accuracy: 0.5081\n",
            "Epoch 47/100\n",
            "62/62 [==============================] - 0s 6ms/step - loss: 2.4310 - accuracy: 0.5040\n",
            "Epoch 48/100\n",
            "62/62 [==============================] - 0s 7ms/step - loss: 2.3889 - accuracy: 0.5197\n",
            "Epoch 49/100\n",
            "62/62 [==============================] - 0s 7ms/step - loss: 2.3415 - accuracy: 0.5318\n",
            "Epoch 50/100\n",
            "62/62 [==============================] - 0s 7ms/step - loss: 2.2888 - accuracy: 0.5348\n",
            "Epoch 51/100\n",
            "62/62 [==============================] - 0s 7ms/step - loss: 2.2597 - accuracy: 0.5489\n",
            "Epoch 52/100\n",
            "62/62 [==============================] - 0s 7ms/step - loss: 2.2413 - accuracy: 0.5399\n",
            "Epoch 53/100\n",
            "62/62 [==============================] - 0s 7ms/step - loss: 2.1736 - accuracy: 0.5605\n",
            "Epoch 54/100\n",
            "62/62 [==============================] - 0s 7ms/step - loss: 2.1289 - accuracy: 0.5716\n",
            "Epoch 55/100\n",
            "62/62 [==============================] - 0s 6ms/step - loss: 2.0973 - accuracy: 0.5747\n",
            "Epoch 56/100\n",
            "62/62 [==============================] - 0s 7ms/step - loss: 2.0488 - accuracy: 0.5863\n",
            "Epoch 57/100\n",
            "62/62 [==============================] - 0s 7ms/step - loss: 2.0191 - accuracy: 0.5974\n",
            "Epoch 58/100\n",
            "62/62 [==============================] - 0s 6ms/step - loss: 1.9744 - accuracy: 0.6004\n",
            "Epoch 59/100\n",
            "62/62 [==============================] - 0s 7ms/step - loss: 1.9380 - accuracy: 0.6090\n",
            "Epoch 60/100\n",
            "62/62 [==============================] - 0s 7ms/step - loss: 1.8971 - accuracy: 0.6231\n",
            "Epoch 61/100\n",
            "62/62 [==============================] - 0s 6ms/step - loss: 1.8726 - accuracy: 0.6271\n",
            "Epoch 62/100\n",
            "62/62 [==============================] - 0s 6ms/step - loss: 1.8831 - accuracy: 0.6186\n",
            "Epoch 63/100\n",
            "62/62 [==============================] - 0s 7ms/step - loss: 1.8677 - accuracy: 0.6171\n",
            "Epoch 64/100\n",
            "62/62 [==============================] - 0s 6ms/step - loss: 1.8092 - accuracy: 0.6387\n",
            "Epoch 65/100\n",
            "62/62 [==============================] - 0s 6ms/step - loss: 1.7599 - accuracy: 0.6473\n",
            "Epoch 66/100\n",
            "62/62 [==============================] - 0s 7ms/step - loss: 1.7327 - accuracy: 0.6519\n",
            "Epoch 67/100\n",
            "62/62 [==============================] - 0s 6ms/step - loss: 1.6932 - accuracy: 0.6650\n",
            "Epoch 68/100\n",
            "62/62 [==============================] - 0s 7ms/step - loss: 1.6659 - accuracy: 0.6655\n",
            "Epoch 69/100\n",
            "62/62 [==============================] - 0s 7ms/step - loss: 1.6578 - accuracy: 0.6726\n",
            "Epoch 70/100\n",
            "62/62 [==============================] - 0s 7ms/step - loss: 1.6254 - accuracy: 0.6741\n",
            "Epoch 71/100\n",
            "62/62 [==============================] - 0s 7ms/step - loss: 1.5947 - accuracy: 0.6801\n",
            "Epoch 72/100\n",
            "62/62 [==============================] - 0s 7ms/step - loss: 1.5576 - accuracy: 0.6892\n",
            "Epoch 73/100\n",
            "62/62 [==============================] - 0s 7ms/step - loss: 1.5287 - accuracy: 0.6993\n",
            "Epoch 74/100\n",
            "62/62 [==============================] - 0s 7ms/step - loss: 1.5020 - accuracy: 0.7008\n",
            "Epoch 75/100\n",
            "62/62 [==============================] - 0s 7ms/step - loss: 1.4865 - accuracy: 0.7059\n",
            "Epoch 76/100\n",
            "62/62 [==============================] - 0s 7ms/step - loss: 1.4729 - accuracy: 0.7059\n",
            "Epoch 77/100\n",
            "62/62 [==============================] - 0s 7ms/step - loss: 1.4464 - accuracy: 0.7074\n",
            "Epoch 78/100\n",
            "62/62 [==============================] - 0s 7ms/step - loss: 1.4263 - accuracy: 0.7129\n",
            "Epoch 79/100\n",
            "62/62 [==============================] - 0s 6ms/step - loss: 1.4127 - accuracy: 0.7149\n",
            "Epoch 80/100\n",
            "62/62 [==============================] - 0s 7ms/step - loss: 1.3788 - accuracy: 0.7240\n",
            "Epoch 81/100\n",
            "62/62 [==============================] - 0s 7ms/step - loss: 1.3623 - accuracy: 0.7260\n",
            "Epoch 82/100\n",
            "62/62 [==============================] - 0s 7ms/step - loss: 1.3434 - accuracy: 0.7270\n",
            "Epoch 83/100\n",
            "62/62 [==============================] - 0s 7ms/step - loss: 1.3067 - accuracy: 0.7442\n",
            "Epoch 84/100\n",
            "62/62 [==============================] - 0s 7ms/step - loss: 1.2808 - accuracy: 0.7528\n",
            "Epoch 85/100\n",
            "62/62 [==============================] - 0s 7ms/step - loss: 1.2671 - accuracy: 0.7462\n",
            "Epoch 86/100\n",
            "62/62 [==============================] - 0s 6ms/step - loss: 1.2545 - accuracy: 0.7492\n",
            "Epoch 87/100\n",
            "62/62 [==============================] - 0s 7ms/step - loss: 1.2553 - accuracy: 0.7442\n",
            "Epoch 88/100\n",
            "62/62 [==============================] - 0s 7ms/step - loss: 1.2345 - accuracy: 0.7467\n",
            "Epoch 89/100\n",
            "62/62 [==============================] - 0s 7ms/step - loss: 1.2142 - accuracy: 0.7588\n",
            "Epoch 90/100\n",
            "62/62 [==============================] - 0s 7ms/step - loss: 1.2074 - accuracy: 0.7553\n",
            "Epoch 91/100\n",
            "62/62 [==============================] - 0s 6ms/step - loss: 1.1818 - accuracy: 0.7614\n",
            "Epoch 92/100\n",
            "62/62 [==============================] - 0s 7ms/step - loss: 1.1550 - accuracy: 0.7649\n",
            "Epoch 93/100\n",
            "62/62 [==============================] - 0s 6ms/step - loss: 1.1319 - accuracy: 0.7694\n",
            "Epoch 94/100\n",
            "62/62 [==============================] - 0s 7ms/step - loss: 1.1098 - accuracy: 0.7770\n",
            "Epoch 95/100\n",
            "62/62 [==============================] - 0s 7ms/step - loss: 1.0986 - accuracy: 0.7795\n",
            "Epoch 96/100\n",
            "62/62 [==============================] - 0s 6ms/step - loss: 1.0871 - accuracy: 0.7836\n",
            "Epoch 97/100\n",
            "62/62 [==============================] - 0s 7ms/step - loss: 1.0767 - accuracy: 0.7780\n",
            "Epoch 98/100\n",
            "62/62 [==============================] - 0s 7ms/step - loss: 1.0592 - accuracy: 0.7856\n",
            "Epoch 99/100\n",
            "62/62 [==============================] - 0s 7ms/step - loss: 1.0424 - accuracy: 0.7886\n",
            "Epoch 100/100\n",
            "62/62 [==============================] - 0s 7ms/step - loss: 1.0270 - accuracy: 0.7931\n"
          ],
          "name": "stdout"
        }
      ]
    },
    {
      "cell_type": "code",
      "metadata": {
        "colab": {
          "base_uri": "https://localhost:8080/",
          "height": 279
        },
        "id": "Ye9U5Ojq7fxn",
        "outputId": "8ccef125-8f5a-4371-b831-50177fb25036"
      },
      "source": [
        "import matplotlib.pyplot as plt\n",
        "\n",
        "def plot_graphs(history, string):\n",
        "  plt.plot(history.history[string])\n",
        "  plt.xlabel(\"Epochs\")\n",
        "  plt.ylabel(string)\n",
        "  plt.show()\n",
        "\n",
        "plot_graphs(history, 'accuracy')"
      ],
      "execution_count": null,
      "outputs": [
        {
          "output_type": "display_data",
          "data": {
            "image/png": "[encoded data removed]",
            "text/plain": [
              "<Figure size 432x288 with 1 Axes>"
            ]
          },
          "metadata": {
            "tags": [],
            "needs_background": "light"
          }
        }
      ]
    },
    {
      "cell_type": "code",
      "metadata": {
        "colab": {
          "base_uri": "https://localhost:8080/"
        },
        "id": "iYvqqYde7f0D",
        "outputId": "6cbcdabb-82b4-4161-c382-2dc2a2e6eba8"
      },
      "source": [
        "seed_text = \"im feeling chills\"\n",
        "next_words = 100\n",
        "  \n",
        "for _ in range(next_words):\n",
        "\ttoken_list = tokenizer.texts_to_sequences([seed_text])[0]\n",
        "\ttoken_list = pad_sequences([token_list], maxlen=max_sequence_len-1, padding='pre')\n",
        "\tpredicted = np.argmax(model.predict(token_list), axis=-1)\n",
        "\toutput_word = \"\"\n",
        "\tfor word, index in tokenizer.word_index.items():\n",
        "\t\tif index == predicted:\n",
        "\t\t\toutput_word = word\n",
        "\t\t\tbreak\n",
        "\tseed_text += \" \" + output_word\n",
        "print(seed_text)"
      ],
      "execution_count": null,
      "outputs": [
        {
          "output_type": "stream",
          "text": [
            "im feeling chills me mean my sleep so sad so quiet break deep deep hes break deep deep touch truth truth could be deep deep come good wanted but new to breeze out that mine fine together found could be so nice deep here be slow and thorough it it so much so much deep deep deep deep hes breeze deep touch youll truth truth dreams truth chiquitita dreams quiet none of you over out that before before found learn would learn could what me before before would night scars scars were deal past past scars scars scars were deal darkest learn chiquitita\n"
          ],
          "name": "stdout"
        }
      ]
    },
    {
      "cell_type": "code",
      "metadata": {
        "colab": {
          "base_uri": "https://localhost:8080/"
        },
        "id": "THIZNsx-C2Vb",
        "outputId": "88319e68-e6d8-4492-cbed-320308a62678"
      },
      "source": [
        "# Test the method with just the first word after the seed text\n",
        "seed_text = \"im feeling chills\"\n",
        "next_words = 100\n",
        "  \n",
        "token_list = tokenizer.texts_to_sequences([seed_text])[0]\n",
        "token_list = pad_sequences([token_list], maxlen=max_sequence_len-1, padding='pre')\n",
        "predicted_probs = model.predict(token_list)[0]\n",
        "predicted = np.random.choice([x for x in range(len(predicted_probs))], \n",
        "                             p=predicted_probs)\n",
        "# Running this cell multiple times should get you some variance in output\n",
        "print(predicted)"
      ],
      "execution_count": null,
      "outputs": [
        {
          "output_type": "stream",
          "text": [
            "5\n"
          ],
          "name": "stdout"
        }
      ]
    },
    {
      "cell_type": "code",
      "metadata": {
        "colab": {
          "base_uri": "https://localhost:8080/"
        },
        "id": "SDxqCdIlC43A",
        "outputId": "a36a2834-fe09-4a28-b2ad-fe733043fa27"
      },
      "source": [
        "# Use this process for the full output generation\n",
        "seed_text = \"im feeling chills\"\n",
        "next_words = 100\n",
        "  \n",
        "for _ in range(next_words):\n",
        "  token_list = tokenizer.texts_to_sequences([seed_text])[0]\n",
        "  token_list = pad_sequences([token_list], maxlen=max_sequence_len-1, padding='pre')\n",
        "  predicted_probs = model.predict(token_list)[0]\n",
        "  predicted = np.random.choice([x for x in range(len(predicted_probs))],\n",
        "                               p=predicted_probs)\n",
        "  output_word = \"\"\n",
        "  for word, index in tokenizer.word_index.items():\n",
        "    if index == predicted:\n",
        "      output_word = word\n",
        "      break\n",
        "  seed_text += \" \" + output_word\n",
        "print(seed_text)"
      ],
      "execution_count": null,
      "outputs": [
        {
          "output_type": "stream",
          "text": [
            "im feeling chills and you used it without give and sell so quiet deep deep show broken here again me cause you over for it over give before like it easy go it slow be could that on in they what could hes before come chiquitita see you feel care be felt be end so pain together part before would night city you leave me andante above out your learn hate dreams tell and again and i leave me leave me mean be about are ways slack i and much much much try was moving holds could it leave me before this here\n"
          ],
          "name": "stdout"
        }
      ]
    }
  ]
}